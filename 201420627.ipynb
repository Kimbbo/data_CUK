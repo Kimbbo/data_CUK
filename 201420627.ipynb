{
  "nbformat": 4,
  "nbformat_minor": 0,
  "metadata": {
    "colab": {
      "name": "201420627",
      "provenance": [],
      "collapsed_sections": []
    },
    "kernelspec": {
      "name": "python3",
      "display_name": "Python 3"
    }
  },
  "cells": [
    {
      "cell_type": "markdown",
      "metadata": {
        "id": "f6s2wxag0-EE",
        "colab_type": "text"
      },
      "source": [
        "## 0. 환경구성\n",
        "### 0.1 패키지 Import\n"
      ]
    },
    {
      "cell_type": "code",
      "metadata": {
        "id": "SxAi2SN01fCQ",
        "colab_type": "code",
        "colab": {}
      },
      "source": [
        "# 기초 함수 Import\n",
        "import numpy as np\n",
        "import pandas as pd\n",
        "import datetime\n",
        "import seaborn as sns\n",
        "import matplotlib.pyplot as plt\n",
        "%matplotlib inline"
      ],
      "execution_count": 0,
      "outputs": []
    },
    {
      "cell_type": "markdown",
      "metadata": {
        "id": "iVj-uqJV1WLR",
        "colab_type": "text"
      },
      "source": [
        "### 0.2 구글 드라이브 연결\n"
      ]
    },
    {
      "cell_type": "code",
      "metadata": {
        "id": "XsXT3hqoKQzU",
        "colab_type": "code",
        "colab": {
          "base_uri": "https://localhost:8080/",
          "height": 223
        },
        "outputId": "5863a0e7-4df4-4cb7-a6c0-8c1da04ee982"
      },
      "source": [
        "!pip install kaggle"
      ],
      "execution_count": 2,
      "outputs": [
        {
          "output_type": "stream",
          "text": [
            "Requirement already satisfied: kaggle in /usr/local/lib/python3.6/dist-packages (1.5.6)\n",
            "Requirement already satisfied: tqdm in /usr/local/lib/python3.6/dist-packages (from kaggle) (4.28.1)\n",
            "Requirement already satisfied: requests in /usr/local/lib/python3.6/dist-packages (from kaggle) (2.21.0)\n",
            "Requirement already satisfied: certifi in /usr/local/lib/python3.6/dist-packages (from kaggle) (2019.9.11)\n",
            "Requirement already satisfied: python-slugify in /usr/local/lib/python3.6/dist-packages (from kaggle) (4.0.0)\n",
            "Requirement already satisfied: six>=1.10 in /usr/local/lib/python3.6/dist-packages (from kaggle) (1.12.0)\n",
            "Requirement already satisfied: urllib3<1.25,>=1.21.1 in /usr/local/lib/python3.6/dist-packages (from kaggle) (1.24.3)\n",
            "Requirement already satisfied: python-dateutil in /usr/local/lib/python3.6/dist-packages (from kaggle) (2.6.1)\n",
            "Requirement already satisfied: idna<2.9,>=2.5 in /usr/local/lib/python3.6/dist-packages (from requests->kaggle) (2.8)\n",
            "Requirement already satisfied: chardet<3.1.0,>=3.0.2 in /usr/local/lib/python3.6/dist-packages (from requests->kaggle) (3.0.4)\n",
            "Requirement already satisfied: text-unidecode>=1.3 in /usr/local/lib/python3.6/dist-packages (from python-slugify->kaggle) (1.3)\n"
          ],
          "name": "stdout"
        }
      ]
    },
    {
      "cell_type": "code",
      "metadata": {
        "id": "HDGc21qeLIew",
        "colab_type": "code",
        "colab": {
          "base_uri": "https://localhost:8080/",
          "height": 36
        },
        "outputId": "2eb93461-8158-405c-e98c-7e64d6bac8e8"
      },
      "source": [
        "ls -1ha kaggle.json"
      ],
      "execution_count": 3,
      "outputs": [
        {
          "output_type": "stream",
          "text": [
            "kaggle.json\n"
          ],
          "name": "stdout"
        }
      ]
    },
    {
      "cell_type": "code",
      "metadata": {
        "id": "ofUbqC5kLL6h",
        "colab_type": "code",
        "colab": {}
      },
      "source": [
        "!mkdir -p ~/.kaggle\n",
        "!cp kaggle.json ~/.kaggle/\n",
        "# Permission Warning 이 일어나지 않도록 코드추가\n",
        "!chmod 600 ~/.kaggle/kaggle.json"
      ],
      "execution_count": 0,
      "outputs": []
    },
    {
      "cell_type": "code",
      "metadata": {
        "id": "mdmSs-dkHH2I",
        "colab_type": "code",
        "colab": {
          "base_uri": "https://localhost:8080/",
          "height": 36
        },
        "outputId": "f3aae263-42b9-48b2-e8af-7d8f8c6e9fc3"
      },
      "source": [
        "from google.colab import drive\n",
        "drive.mount('/gdrive', force_remount=True)"
      ],
      "execution_count": 5,
      "outputs": [
        {
          "output_type": "stream",
          "text": [
            "Mounted at /gdrive\n"
          ],
          "name": "stdout"
        }
      ]
    },
    {
      "cell_type": "code",
      "metadata": {
        "id": "l1_TY1-T0Av7",
        "colab_type": "code",
        "colab": {}
      },
      "source": [
        "# 데이터 적제\n",
        "item_categories = pd.read_csv(\"/gdrive/My Drive/kaggle1/item_categories.csv\")\n",
        "items=pd.read_csv('/gdrive/My Drive/kaggle1/items.csv')\n",
        "shops=pd.read_csv('/gdrive/My Drive/kaggle1/shops.csv')\n",
        "test=pd.read_csv('/gdrive/My Drive/kaggle1/test.csv')\n",
        "sp=pd.read_csv('/gdrive/My Drive/kaggle1/sample_submission.csv')\n",
        "trn=pd.read_csv('/gdrive/My Drive/kaggle1/sales_train_v2.csv')"
      ],
      "execution_count": 0,
      "outputs": []
    },
    {
      "cell_type": "markdown",
      "metadata": {
        "id": "kAADO9lk1mfp",
        "colab_type": "text"
      },
      "source": [
        "## 1. 데이터 전처리"
      ]
    },
    {
      "cell_type": "markdown",
      "metadata": {
        "id": "8qKSe-qq1rNy",
        "colab_type": "text"
      },
      "source": [
        "### 1-1. 데이터 효율화"
      ]
    },
    {
      "cell_type": "code",
      "metadata": {
        "id": "WfR6hsE91tHj",
        "colab_type": "code",
        "colab": {}
      },
      "source": [
        "# 테스트에 있는 데이터만 선별\n",
        "test_items_u = test.item_id.unique()\n",
        "trn = trn[trn.item_id.isin(test_items_u)]\n",
        "\n",
        "test_shops_u = shops.shop_id.unique()\n",
        "trn = trn[trn.shop_id.isin(test_shops_u)]"
      ],
      "execution_count": 0,
      "outputs": []
    },
    {
      "cell_type": "markdown",
      "metadata": {
        "id": "DpM9R6mY1vPS",
        "colab_type": "text"
      },
      "source": [
        "### 1-2. 데이터 속성확인"
      ]
    },
    {
      "cell_type": "code",
      "metadata": {
        "id": "UHo9p5Sq1x1C",
        "colab_type": "code",
        "outputId": "ae40eb2c-53cf-489d-e82f-f3817910573a",
        "colab": {
          "base_uri": "https://localhost:8080/",
          "height": 801
        }
      },
      "source": [
        "# 속성 별 데이터 확인\n",
        "# 각 열을 for 문을 통해서 출력\n",
        "for col in trn.columns:\n",
        "    print('{}\\n'.format(trn[col].head()))\n",
        "# '{}\\n' 줄 띠어 쓰기를 의미.  "
      ],
      "execution_count": 8,
      "outputs": [
        {
          "output_type": "stream",
          "text": [
            "0     02.01.2013\n",
            "10    03.01.2013\n",
            "11    05.01.2013\n",
            "12    07.01.2013\n",
            "13    08.01.2013\n",
            "Name: date, dtype: object\n",
            "\n",
            "0     0\n",
            "10    0\n",
            "11    0\n",
            "12    0\n",
            "13    0\n",
            "Name: date_block_num, dtype: int64\n",
            "\n",
            "0     59\n",
            "10    25\n",
            "11    25\n",
            "12    25\n",
            "13    25\n",
            "Name: shop_id, dtype: int64\n",
            "\n",
            "0     22154\n",
            "10     2574\n",
            "11     2574\n",
            "12     2574\n",
            "13     2574\n",
            "Name: item_id, dtype: int64\n",
            "\n",
            "0     999.0\n",
            "10    399.0\n",
            "11    399.0\n",
            "12    399.0\n",
            "13    399.0\n",
            "Name: item_price, dtype: float64\n",
            "\n",
            "0     1.0\n",
            "10    2.0\n",
            "11    1.0\n",
            "12    1.0\n",
            "13    2.0\n",
            "Name: item_cnt_day, dtype: float64\n",
            "\n"
          ],
          "name": "stdout"
        }
      ]
    },
    {
      "cell_type": "code",
      "metadata": {
        "id": "-khRFTCb1zIj",
        "colab_type": "code",
        "outputId": "32aef5f3-c592-4dc3-bcb8-8db691080ab8",
        "colab": {
          "base_uri": "https://localhost:8080/",
          "height": 294
        }
      },
      "source": [
        "# 수치형 변수 확인하기\n",
        "\n",
        "n_cols = [col for col in trn.columns[4:6]]\n",
        "trn[n_cols].describe()"
      ],
      "execution_count": 9,
      "outputs": [
        {
          "output_type": "execute_result",
          "data": {
            "text/html": [
              "<div>\n",
              "<style scoped>\n",
              "    .dataframe tbody tr th:only-of-type {\n",
              "        vertical-align: middle;\n",
              "    }\n",
              "\n",
              "    .dataframe tbody tr th {\n",
              "        vertical-align: top;\n",
              "    }\n",
              "\n",
              "    .dataframe thead th {\n",
              "        text-align: right;\n",
              "    }\n",
              "</style>\n",
              "<table border=\"1\" class=\"dataframe\">\n",
              "  <thead>\n",
              "    <tr style=\"text-align: right;\">\n",
              "      <th></th>\n",
              "      <th>item_price</th>\n",
              "      <th>item_cnt_day</th>\n",
              "    </tr>\n",
              "  </thead>\n",
              "  <tbody>\n",
              "    <tr>\n",
              "      <th>count</th>\n",
              "      <td>1.446006e+06</td>\n",
              "      <td>1.446006e+06</td>\n",
              "    </tr>\n",
              "    <tr>\n",
              "      <th>mean</th>\n",
              "      <td>1.022199e+03</td>\n",
              "      <td>1.329992e+00</td>\n",
              "    </tr>\n",
              "    <tr>\n",
              "      <th>std</th>\n",
              "      <td>1.807847e+03</td>\n",
              "      <td>3.189945e+00</td>\n",
              "    </tr>\n",
              "    <tr>\n",
              "      <th>min</th>\n",
              "      <td>5.000000e-01</td>\n",
              "      <td>-1.600000e+01</td>\n",
              "    </tr>\n",
              "    <tr>\n",
              "      <th>25%</th>\n",
              "      <td>2.990000e+02</td>\n",
              "      <td>1.000000e+00</td>\n",
              "    </tr>\n",
              "    <tr>\n",
              "      <th>50%</th>\n",
              "      <td>5.490000e+02</td>\n",
              "      <td>1.000000e+00</td>\n",
              "    </tr>\n",
              "    <tr>\n",
              "      <th>75%</th>\n",
              "      <td>1.199000e+03</td>\n",
              "      <td>1.000000e+00</td>\n",
              "    </tr>\n",
              "    <tr>\n",
              "      <th>max</th>\n",
              "      <td>5.920000e+04</td>\n",
              "      <td>2.169000e+03</td>\n",
              "    </tr>\n",
              "  </tbody>\n",
              "</table>\n",
              "</div>"
            ],
            "text/plain": [
              "         item_price  item_cnt_day\n",
              "count  1.446006e+06  1.446006e+06\n",
              "mean   1.022199e+03  1.329992e+00\n",
              "std    1.807847e+03  3.189945e+00\n",
              "min    5.000000e-01 -1.600000e+01\n",
              "25%    2.990000e+02  1.000000e+00\n",
              "50%    5.490000e+02  1.000000e+00\n",
              "75%    1.199000e+03  1.000000e+00\n",
              "max    5.920000e+04  2.169000e+03"
            ]
          },
          "metadata": {
            "tags": []
          },
          "execution_count": 9
        }
      ]
    },
    {
      "cell_type": "markdown",
      "metadata": {
        "id": "MmwUe7tW3I02",
        "colab_type": "text"
      },
      "source": [
        "### 1-3. Input 형식 만들기"
      ]
    },
    {
      "cell_type": "code",
      "metadata": {
        "id": "FphpCiiu3KDw",
        "colab_type": "code",
        "outputId": "a56edc85-aa82-4c62-9932-374e53289ffc",
        "colab": {
          "base_uri": "https://localhost:8080/",
          "height": 202
        }
      },
      "source": [
        "test.head()\n",
        "# Test의 값에 ID, Shop_ID, Item_ID 가 있음으로, 이를 기준으로 형식으로 만들어야함."
      ],
      "execution_count": 10,
      "outputs": [
        {
          "output_type": "execute_result",
          "data": {
            "text/html": [
              "<div>\n",
              "<style scoped>\n",
              "    .dataframe tbody tr th:only-of-type {\n",
              "        vertical-align: middle;\n",
              "    }\n",
              "\n",
              "    .dataframe tbody tr th {\n",
              "        vertical-align: top;\n",
              "    }\n",
              "\n",
              "    .dataframe thead th {\n",
              "        text-align: right;\n",
              "    }\n",
              "</style>\n",
              "<table border=\"1\" class=\"dataframe\">\n",
              "  <thead>\n",
              "    <tr style=\"text-align: right;\">\n",
              "      <th></th>\n",
              "      <th>ID</th>\n",
              "      <th>shop_id</th>\n",
              "      <th>item_id</th>\n",
              "    </tr>\n",
              "  </thead>\n",
              "  <tbody>\n",
              "    <tr>\n",
              "      <th>0</th>\n",
              "      <td>0</td>\n",
              "      <td>5</td>\n",
              "      <td>5037</td>\n",
              "    </tr>\n",
              "    <tr>\n",
              "      <th>1</th>\n",
              "      <td>1</td>\n",
              "      <td>5</td>\n",
              "      <td>5320</td>\n",
              "    </tr>\n",
              "    <tr>\n",
              "      <th>2</th>\n",
              "      <td>2</td>\n",
              "      <td>5</td>\n",
              "      <td>5233</td>\n",
              "    </tr>\n",
              "    <tr>\n",
              "      <th>3</th>\n",
              "      <td>3</td>\n",
              "      <td>5</td>\n",
              "      <td>5232</td>\n",
              "    </tr>\n",
              "    <tr>\n",
              "      <th>4</th>\n",
              "      <td>4</td>\n",
              "      <td>5</td>\n",
              "      <td>5268</td>\n",
              "    </tr>\n",
              "  </tbody>\n",
              "</table>\n",
              "</div>"
            ],
            "text/plain": [
              "   ID  shop_id  item_id\n",
              "0   0        5     5037\n",
              "1   1        5     5320\n",
              "2   2        5     5233\n",
              "3   3        5     5232\n",
              "4   4        5     5268"
            ]
          },
          "metadata": {
            "tags": []
          },
          "execution_count": 10
        }
      ]
    },
    {
      "cell_type": "code",
      "metadata": {
        "id": "nwyw2PwR3amQ",
        "colab_type": "code",
        "colab": {}
      },
      "source": [
        "# Month, Item ID, Shop ID 세개의 열을 이용해, 인풋 값을 만들자.\n",
        "\n",
        "# 곱집합을 이용해, 빈 형식을 만들기\n",
        "from itertools import product \n",
        "\n",
        "## Shop List와 Items List를 곱집합함\n",
        "S_I_Prod = pd.DataFrame(list(product(test_shops_u, test_items_u)), columns=['shop_id','item_id']) \n",
        "\n",
        "# 모든 경우에 수에 알맞게, 트레인 값 병합\n",
        "trn_B = pd.merge(S_I_Prod , trn, on=['shop_id','item_id'], how='left') \n",
        "trn_B['item_cnt_day'].fillna(0, inplace=True) \n",
        "\n",
        "# 그룹핑\n",
        "trn_grp = trn_B.groupby(['shop_id','item_id'])"
      ],
      "execution_count": 0,
      "outputs": []
    },
    {
      "cell_type": "code",
      "metadata": {
        "id": "8KDkcA5-E5ca",
        "colab_type": "code",
        "outputId": "8b5855d7-854f-4aa1-8723-5e83141e6a5c",
        "colab": {
          "base_uri": "https://localhost:8080/",
          "height": 415
        }
      },
      "source": [
        "trn_B"
      ],
      "execution_count": 12,
      "outputs": [
        {
          "output_type": "execute_result",
          "data": {
            "text/html": [
              "<div>\n",
              "<style scoped>\n",
              "    .dataframe tbody tr th:only-of-type {\n",
              "        vertical-align: middle;\n",
              "    }\n",
              "\n",
              "    .dataframe tbody tr th {\n",
              "        vertical-align: top;\n",
              "    }\n",
              "\n",
              "    .dataframe thead th {\n",
              "        text-align: right;\n",
              "    }\n",
              "</style>\n",
              "<table border=\"1\" class=\"dataframe\">\n",
              "  <thead>\n",
              "    <tr style=\"text-align: right;\">\n",
              "      <th></th>\n",
              "      <th>shop_id</th>\n",
              "      <th>item_id</th>\n",
              "      <th>date</th>\n",
              "      <th>date_block_num</th>\n",
              "      <th>item_price</th>\n",
              "      <th>item_cnt_day</th>\n",
              "    </tr>\n",
              "  </thead>\n",
              "  <tbody>\n",
              "    <tr>\n",
              "      <th>0</th>\n",
              "      <td>0</td>\n",
              "      <td>5037</td>\n",
              "      <td>NaN</td>\n",
              "      <td>NaN</td>\n",
              "      <td>NaN</td>\n",
              "      <td>0.0</td>\n",
              "    </tr>\n",
              "    <tr>\n",
              "      <th>1</th>\n",
              "      <td>0</td>\n",
              "      <td>5320</td>\n",
              "      <td>NaN</td>\n",
              "      <td>NaN</td>\n",
              "      <td>NaN</td>\n",
              "      <td>0.0</td>\n",
              "    </tr>\n",
              "    <tr>\n",
              "      <th>2</th>\n",
              "      <td>0</td>\n",
              "      <td>5233</td>\n",
              "      <td>NaN</td>\n",
              "      <td>NaN</td>\n",
              "      <td>NaN</td>\n",
              "      <td>0.0</td>\n",
              "    </tr>\n",
              "    <tr>\n",
              "      <th>3</th>\n",
              "      <td>0</td>\n",
              "      <td>5232</td>\n",
              "      <td>NaN</td>\n",
              "      <td>NaN</td>\n",
              "      <td>NaN</td>\n",
              "      <td>0.0</td>\n",
              "    </tr>\n",
              "    <tr>\n",
              "      <th>4</th>\n",
              "      <td>0</td>\n",
              "      <td>5268</td>\n",
              "      <td>NaN</td>\n",
              "      <td>NaN</td>\n",
              "      <td>NaN</td>\n",
              "      <td>0.0</td>\n",
              "    </tr>\n",
              "    <tr>\n",
              "      <th>...</th>\n",
              "      <td>...</td>\n",
              "      <td>...</td>\n",
              "      <td>...</td>\n",
              "      <td>...</td>\n",
              "      <td>...</td>\n",
              "      <td>...</td>\n",
              "    </tr>\n",
              "    <tr>\n",
              "      <th>1617801</th>\n",
              "      <td>59</td>\n",
              "      <td>969</td>\n",
              "      <td>13.06.2014</td>\n",
              "      <td>17.0</td>\n",
              "      <td>549.0</td>\n",
              "      <td>1.0</td>\n",
              "    </tr>\n",
              "    <tr>\n",
              "      <th>1617802</th>\n",
              "      <td>59</td>\n",
              "      <td>969</td>\n",
              "      <td>25.06.2014</td>\n",
              "      <td>17.0</td>\n",
              "      <td>549.0</td>\n",
              "      <td>1.0</td>\n",
              "    </tr>\n",
              "    <tr>\n",
              "      <th>1617803</th>\n",
              "      <td>59</td>\n",
              "      <td>969</td>\n",
              "      <td>15.06.2014</td>\n",
              "      <td>17.0</td>\n",
              "      <td>549.0</td>\n",
              "      <td>1.0</td>\n",
              "    </tr>\n",
              "    <tr>\n",
              "      <th>1617804</th>\n",
              "      <td>59</td>\n",
              "      <td>969</td>\n",
              "      <td>12.07.2014</td>\n",
              "      <td>18.0</td>\n",
              "      <td>549.0</td>\n",
              "      <td>1.0</td>\n",
              "    </tr>\n",
              "    <tr>\n",
              "      <th>1617805</th>\n",
              "      <td>59</td>\n",
              "      <td>969</td>\n",
              "      <td>31.03.2015</td>\n",
              "      <td>26.0</td>\n",
              "      <td>298.0</td>\n",
              "      <td>1.0</td>\n",
              "    </tr>\n",
              "  </tbody>\n",
              "</table>\n",
              "<p>1617806 rows × 6 columns</p>\n",
              "</div>"
            ],
            "text/plain": [
              "         shop_id  item_id        date  date_block_num  item_price  item_cnt_day\n",
              "0              0     5037         NaN             NaN         NaN           0.0\n",
              "1              0     5320         NaN             NaN         NaN           0.0\n",
              "2              0     5233         NaN             NaN         NaN           0.0\n",
              "3              0     5232         NaN             NaN         NaN           0.0\n",
              "4              0     5268         NaN             NaN         NaN           0.0\n",
              "...          ...      ...         ...             ...         ...           ...\n",
              "1617801       59      969  13.06.2014            17.0       549.0           1.0\n",
              "1617802       59      969  25.06.2014            17.0       549.0           1.0\n",
              "1617803       59      969  15.06.2014            17.0       549.0           1.0\n",
              "1617804       59      969  12.07.2014            18.0       549.0           1.0\n",
              "1617805       59      969  31.03.2015            26.0       298.0           1.0\n",
              "\n",
              "[1617806 rows x 6 columns]"
            ]
          },
          "metadata": {
            "tags": []
          },
          "execution_count": 12
        }
      ]
    },
    {
      "cell_type": "markdown",
      "metadata": {
        "id": "Ij6fH8JX44bW",
        "colab_type": "text"
      },
      "source": [
        "## 2. 파생변수 만들기"
      ]
    },
    {
      "cell_type": "markdown",
      "metadata": {
        "id": "RGwgWCUT4-KK",
        "colab_type": "text"
      },
      "source": [
        "### 2.1 그룹 별 통계변수 추가"
      ]
    },
    {
      "cell_type": "code",
      "metadata": {
        "id": "VuYSFZWr5A4j",
        "colab_type": "code",
        "colab": {}
      },
      "source": [
        "# 그룹별 합계, 빈도, 평균, 표준편차\n",
        "\n",
        "trn_IC = pd.DataFrame(trn_grp.agg({'item_cnt_day':['sum','count','mean','std'],'item_price':['sum', 'count','mean', 'std']})).reset_index() \n",
        "#trn_IC.columns = ['date_block_num','shop_id','item_id','item_cnt_sum','item_cnt_count','item_cnt_mean','item_cnt_std''item_price_sum','item_price_count','item_price_mean','item_price_std'] "
      ],
      "execution_count": 0,
      "outputs": []
    },
    {
      "cell_type": "code",
      "metadata": {
        "id": "AJoP4SBdP0qX",
        "colab_type": "code",
        "colab": {}
      },
      "source": [
        "trn_IC.columns = ['shop_id','item_id','item_cnt_sum','item_cnt_count','item_cnt_mean','item_cnt_std','item_price_sum','item_price_count','item_price_mean','item_price_std'] "
      ],
      "execution_count": 0,
      "outputs": []
    },
    {
      "cell_type": "code",
      "metadata": {
        "id": "d8GDozAtP9Ur",
        "colab_type": "code",
        "outputId": "5344c8da-8430-4bec-af41-ef7c085ebce9",
        "colab": {
          "base_uri": "https://localhost:8080/",
          "height": 222
        }
      },
      "source": [
        "trn_IC.head()"
      ],
      "execution_count": 15,
      "outputs": [
        {
          "output_type": "execute_result",
          "data": {
            "text/html": [
              "<div>\n",
              "<style scoped>\n",
              "    .dataframe tbody tr th:only-of-type {\n",
              "        vertical-align: middle;\n",
              "    }\n",
              "\n",
              "    .dataframe tbody tr th {\n",
              "        vertical-align: top;\n",
              "    }\n",
              "\n",
              "    .dataframe thead th {\n",
              "        text-align: right;\n",
              "    }\n",
              "</style>\n",
              "<table border=\"1\" class=\"dataframe\">\n",
              "  <thead>\n",
              "    <tr style=\"text-align: right;\">\n",
              "      <th></th>\n",
              "      <th>shop_id</th>\n",
              "      <th>item_id</th>\n",
              "      <th>item_cnt_sum</th>\n",
              "      <th>item_cnt_count</th>\n",
              "      <th>item_cnt_mean</th>\n",
              "      <th>item_cnt_std</th>\n",
              "      <th>item_price_sum</th>\n",
              "      <th>item_price_count</th>\n",
              "      <th>item_price_mean</th>\n",
              "      <th>item_price_std</th>\n",
              "    </tr>\n",
              "  </thead>\n",
              "  <tbody>\n",
              "    <tr>\n",
              "      <th>0</th>\n",
              "      <td>0</td>\n",
              "      <td>30</td>\n",
              "      <td>31.0</td>\n",
              "      <td>9</td>\n",
              "      <td>3.444444</td>\n",
              "      <td>2.242271</td>\n",
              "      <td>2385.0</td>\n",
              "      <td>9</td>\n",
              "      <td>265.0</td>\n",
              "      <td>0.0</td>\n",
              "    </tr>\n",
              "    <tr>\n",
              "      <th>1</th>\n",
              "      <td>0</td>\n",
              "      <td>31</td>\n",
              "      <td>11.0</td>\n",
              "      <td>7</td>\n",
              "      <td>1.571429</td>\n",
              "      <td>0.975900</td>\n",
              "      <td>3038.0</td>\n",
              "      <td>7</td>\n",
              "      <td>434.0</td>\n",
              "      <td>0.0</td>\n",
              "    </tr>\n",
              "    <tr>\n",
              "      <th>2</th>\n",
              "      <td>0</td>\n",
              "      <td>32</td>\n",
              "      <td>16.0</td>\n",
              "      <td>11</td>\n",
              "      <td>1.454545</td>\n",
              "      <td>0.522233</td>\n",
              "      <td>2431.0</td>\n",
              "      <td>11</td>\n",
              "      <td>221.0</td>\n",
              "      <td>0.0</td>\n",
              "    </tr>\n",
              "    <tr>\n",
              "      <th>3</th>\n",
              "      <td>0</td>\n",
              "      <td>33</td>\n",
              "      <td>6.0</td>\n",
              "      <td>6</td>\n",
              "      <td>1.000000</td>\n",
              "      <td>0.000000</td>\n",
              "      <td>2082.0</td>\n",
              "      <td>6</td>\n",
              "      <td>347.0</td>\n",
              "      <td>0.0</td>\n",
              "    </tr>\n",
              "    <tr>\n",
              "      <th>4</th>\n",
              "      <td>0</td>\n",
              "      <td>38</td>\n",
              "      <td>0.0</td>\n",
              "      <td>1</td>\n",
              "      <td>0.000000</td>\n",
              "      <td>NaN</td>\n",
              "      <td>0.0</td>\n",
              "      <td>0</td>\n",
              "      <td>NaN</td>\n",
              "      <td>NaN</td>\n",
              "    </tr>\n",
              "  </tbody>\n",
              "</table>\n",
              "</div>"
            ],
            "text/plain": [
              "   shop_id  item_id  ...  item_price_mean  item_price_std\n",
              "0        0       30  ...            265.0             0.0\n",
              "1        0       31  ...            434.0             0.0\n",
              "2        0       32  ...            221.0             0.0\n",
              "3        0       33  ...            347.0             0.0\n",
              "4        0       38  ...              NaN             NaN\n",
              "\n",
              "[5 rows x 10 columns]"
            ]
          },
          "metadata": {
            "tags": []
          },
          "execution_count": 15
        }
      ]
    },
    {
      "cell_type": "code",
      "metadata": {
        "id": "tOUBJbrMorV6",
        "colab_type": "code",
        "outputId": "fb6d6549-cb19-4e47-cab2-f948abf54474",
        "colab": {
          "base_uri": "https://localhost:8080/",
          "height": 185
        }
      },
      "source": [
        "trn_IC['item_cnt_count'].describe()"
      ],
      "execution_count": 16,
      "outputs": [
        {
          "output_type": "execute_result",
          "data": {
            "text/plain": [
              "count    306000.000000\n",
              "mean          5.286948\n",
              "std          16.646686\n",
              "min           1.000000\n",
              "25%           1.000000\n",
              "50%           1.000000\n",
              "75%           3.000000\n",
              "max         867.000000\n",
              "Name: item_cnt_count, dtype: float64"
            ]
          },
          "metadata": {
            "tags": []
          },
          "execution_count": 16
        }
      ]
    },
    {
      "cell_type": "markdown",
      "metadata": {
        "id": "LgaJ35_V7fWS",
        "colab_type": "text"
      },
      "source": [
        "### 2.2 아이탬, 상점 그룹 추가"
      ]
    },
    {
      "cell_type": "code",
      "metadata": {
        "id": "KcZPW6Kd7yCO",
        "colab_type": "code",
        "outputId": "4aa571aa-03ed-4749-aa28-9da5aa5bc449",
        "colab": {
          "base_uri": "https://localhost:8080/",
          "height": 129
        }
      },
      "source": [
        "pip install googletrans   #package 설치"
      ],
      "execution_count": 17,
      "outputs": [
        {
          "output_type": "stream",
          "text": [
            "Requirement already satisfied: googletrans in /usr/local/lib/python3.6/dist-packages (2.4.0)\n",
            "Requirement already satisfied: requests in /usr/local/lib/python3.6/dist-packages (from googletrans) (2.21.0)\n",
            "Requirement already satisfied: urllib3<1.25,>=1.21.1 in /usr/local/lib/python3.6/dist-packages (from requests->googletrans) (1.24.3)\n",
            "Requirement already satisfied: certifi>=2017.4.17 in /usr/local/lib/python3.6/dist-packages (from requests->googletrans) (2019.9.11)\n",
            "Requirement already satisfied: chardet<3.1.0,>=3.0.2 in /usr/local/lib/python3.6/dist-packages (from requests->googletrans) (3.0.4)\n",
            "Requirement already satisfied: idna<2.9,>=2.5 in /usr/local/lib/python3.6/dist-packages (from requests->googletrans) (2.8)\n"
          ],
          "name": "stdout"
        }
      ]
    },
    {
      "cell_type": "code",
      "metadata": {
        "id": "LexixnGY7-kO",
        "colab_type": "code",
        "colab": {}
      },
      "source": [
        "# 러시아어 번역을 위한 함수\n",
        "from googletrans import Translator\n",
        "\n",
        "trans = Translator()\n",
        "def translate(col):\n",
        "    en_list=[]\n",
        "    for word in col:\n",
        "        en = trans.translate(word, src = 'ru', dest='en')   #러시아어(ru) -> 영어(en)로 번역\n",
        "        en_list.append(en.text)   #Tranlator().text = 번역결과\n",
        "    return en_list"
      ],
      "execution_count": 0,
      "outputs": []
    },
    {
      "cell_type": "code",
      "metadata": {
        "id": "bLVwsX7Y8qNw",
        "colab_type": "code",
        "colab": {}
      },
      "source": [
        "# 10개만 선별\n",
        "item_categories10 = item_categories.loc[1:10]\n",
        "shop10 = shops.loc[1:10]"
      ],
      "execution_count": 0,
      "outputs": []
    },
    {
      "cell_type": "code",
      "metadata": {
        "id": "-CaMY33h8pA8",
        "colab_type": "code",
        "outputId": "1c3d2046-3f1f-4737-b8d5-00fcd0fe10e0",
        "colab": {
          "base_uri": "https://localhost:8080/",
          "height": 241
        }
      },
      "source": [
        "item_categories10['item_category_name'] = translate(item_categories10['item_category_name'])\n",
        "shop10['shop_name'] = translate(shop10['shop_name'])"
      ],
      "execution_count": 20,
      "outputs": [
        {
          "output_type": "stream",
          "text": [
            "/usr/local/lib/python3.6/dist-packages/ipykernel_launcher.py:1: SettingWithCopyWarning: \n",
            "A value is trying to be set on a copy of a slice from a DataFrame.\n",
            "Try using .loc[row_indexer,col_indexer] = value instead\n",
            "\n",
            "See the caveats in the documentation: http://pandas.pydata.org/pandas-docs/stable/user_guide/indexing.html#returning-a-view-versus-a-copy\n",
            "  \"\"\"Entry point for launching an IPython kernel.\n",
            "/usr/local/lib/python3.6/dist-packages/ipykernel_launcher.py:2: SettingWithCopyWarning: \n",
            "A value is trying to be set on a copy of a slice from a DataFrame.\n",
            "Try using .loc[row_indexer,col_indexer] = value instead\n",
            "\n",
            "See the caveats in the documentation: http://pandas.pydata.org/pandas-docs/stable/user_guide/indexing.html#returning-a-view-versus-a-copy\n",
            "  \n"
          ],
          "name": "stderr"
        }
      ]
    },
    {
      "cell_type": "code",
      "metadata": {
        "id": "xWfmqWjb9w1D",
        "colab_type": "code",
        "outputId": "2a317141-809a-4dc1-deae-d31e3c5c25f6",
        "colab": {
          "base_uri": "https://localhost:8080/",
          "height": 355
        }
      },
      "source": [
        "item_categories10\n",
        "# 카테고리 이름의 첫 단어가 하위 항목을 포함하고 있음을 확인 가능"
      ],
      "execution_count": 21,
      "outputs": [
        {
          "output_type": "execute_result",
          "data": {
            "text/html": [
              "<div>\n",
              "<style scoped>\n",
              "    .dataframe tbody tr th:only-of-type {\n",
              "        vertical-align: middle;\n",
              "    }\n",
              "\n",
              "    .dataframe tbody tr th {\n",
              "        vertical-align: top;\n",
              "    }\n",
              "\n",
              "    .dataframe thead th {\n",
              "        text-align: right;\n",
              "    }\n",
              "</style>\n",
              "<table border=\"1\" class=\"dataframe\">\n",
              "  <thead>\n",
              "    <tr style=\"text-align: right;\">\n",
              "      <th></th>\n",
              "      <th>item_category_name</th>\n",
              "      <th>item_category_id</th>\n",
              "    </tr>\n",
              "  </thead>\n",
              "  <tbody>\n",
              "    <tr>\n",
              "      <th>1</th>\n",
              "      <td>Accessories - PS2</td>\n",
              "      <td>1</td>\n",
              "    </tr>\n",
              "    <tr>\n",
              "      <th>2</th>\n",
              "      <td>Accessories - PS3</td>\n",
              "      <td>2</td>\n",
              "    </tr>\n",
              "    <tr>\n",
              "      <th>3</th>\n",
              "      <td>Accessories - PS4</td>\n",
              "      <td>3</td>\n",
              "    </tr>\n",
              "    <tr>\n",
              "      <th>4</th>\n",
              "      <td>Accessories - PSP</td>\n",
              "      <td>4</td>\n",
              "    </tr>\n",
              "    <tr>\n",
              "      <th>5</th>\n",
              "      <td>Accessories - PSVita</td>\n",
              "      <td>5</td>\n",
              "    </tr>\n",
              "    <tr>\n",
              "      <th>6</th>\n",
              "      <td>Accessories - XBOX 360</td>\n",
              "      <td>6</td>\n",
              "    </tr>\n",
              "    <tr>\n",
              "      <th>7</th>\n",
              "      <td>Accessories - XBOX ONE</td>\n",
              "      <td>7</td>\n",
              "    </tr>\n",
              "    <tr>\n",
              "      <th>8</th>\n",
              "      <td>Tickets (digits)</td>\n",
              "      <td>8</td>\n",
              "    </tr>\n",
              "    <tr>\n",
              "      <th>9</th>\n",
              "      <td>Delivery of goods</td>\n",
              "      <td>9</td>\n",
              "    </tr>\n",
              "    <tr>\n",
              "      <th>10</th>\n",
              "      <td>Game consoles - PS2</td>\n",
              "      <td>10</td>\n",
              "    </tr>\n",
              "  </tbody>\n",
              "</table>\n",
              "</div>"
            ],
            "text/plain": [
              "        item_category_name  item_category_id\n",
              "1        Accessories - PS2                 1\n",
              "2        Accessories - PS3                 2\n",
              "3        Accessories - PS4                 3\n",
              "4        Accessories - PSP                 4\n",
              "5     Accessories - PSVita                 5\n",
              "6   Accessories - XBOX 360                 6\n",
              "7   Accessories - XBOX ONE                 7\n",
              "8         Tickets (digits)                 8\n",
              "9        Delivery of goods                 9\n",
              "10     Game consoles - PS2                10"
            ]
          },
          "metadata": {
            "tags": []
          },
          "execution_count": 21
        }
      ]
    },
    {
      "cell_type": "code",
      "metadata": {
        "id": "oykQx2LV9w_U",
        "colab_type": "code",
        "outputId": "15714f5c-91bb-4460-d8a5-1e88d71f87c8",
        "colab": {
          "base_uri": "https://localhost:8080/",
          "height": 355
        }
      },
      "source": [
        "shop10\n",
        "# 상점 이름의 첫 단어가 지역명임을 확인 가능"
      ],
      "execution_count": 22,
      "outputs": [
        {
          "output_type": "execute_result",
          "data": {
            "text/html": [
              "<div>\n",
              "<style scoped>\n",
              "    .dataframe tbody tr th:only-of-type {\n",
              "        vertical-align: middle;\n",
              "    }\n",
              "\n",
              "    .dataframe tbody tr th {\n",
              "        vertical-align: top;\n",
              "    }\n",
              "\n",
              "    .dataframe thead th {\n",
              "        text-align: right;\n",
              "    }\n",
              "</style>\n",
              "<table border=\"1\" class=\"dataframe\">\n",
              "  <thead>\n",
              "    <tr style=\"text-align: right;\">\n",
              "      <th></th>\n",
              "      <th>shop_name</th>\n",
              "      <th>shop_id</th>\n",
              "    </tr>\n",
              "  </thead>\n",
              "  <tbody>\n",
              "    <tr>\n",
              "      <th>1</th>\n",
              "      <td>! Yakutsk TC \"Central\" Franc</td>\n",
              "      <td>1</td>\n",
              "    </tr>\n",
              "    <tr>\n",
              "      <th>2</th>\n",
              "      <td>Adygea TC \"Mega\"</td>\n",
              "      <td>2</td>\n",
              "    </tr>\n",
              "    <tr>\n",
              "      <th>3</th>\n",
              "      <td>Balashikha TRC \"October-Kinomir\"</td>\n",
              "      <td>3</td>\n",
              "    </tr>\n",
              "    <tr>\n",
              "      <th>4</th>\n",
              "      <td>Volzhsky mall \"Volga Mall\"</td>\n",
              "      <td>4</td>\n",
              "    </tr>\n",
              "    <tr>\n",
              "      <th>5</th>\n",
              "      <td>Vologda SEC \"Marmalade\"</td>\n",
              "      <td>5</td>\n",
              "    </tr>\n",
              "    <tr>\n",
              "      <th>6</th>\n",
              "      <td>Voronezh (Plekhanovskaya, 13)</td>\n",
              "      <td>6</td>\n",
              "    </tr>\n",
              "    <tr>\n",
              "      <th>7</th>\n",
              "      <td>Voronezh SEC \"Maksimir\"</td>\n",
              "      <td>7</td>\n",
              "    </tr>\n",
              "    <tr>\n",
              "      <th>8</th>\n",
              "      <td>Voronezh shopping center City Park \"Castle\"</td>\n",
              "      <td>8</td>\n",
              "    </tr>\n",
              "    <tr>\n",
              "      <th>9</th>\n",
              "      <td>Itinerant trade</td>\n",
              "      <td>9</td>\n",
              "    </tr>\n",
              "    <tr>\n",
              "      <th>10</th>\n",
              "      <td>Zhukovsky Street. Chkalov 39m?</td>\n",
              "      <td>10</td>\n",
              "    </tr>\n",
              "  </tbody>\n",
              "</table>\n",
              "</div>"
            ],
            "text/plain": [
              "                                      shop_name  shop_id\n",
              "1                  ! Yakutsk TC \"Central\" Franc        1\n",
              "2                              Adygea TC \"Mega\"        2\n",
              "3              Balashikha TRC \"October-Kinomir\"        3\n",
              "4                    Volzhsky mall \"Volga Mall\"        4\n",
              "5                       Vologda SEC \"Marmalade\"        5\n",
              "6                 Voronezh (Plekhanovskaya, 13)        6\n",
              "7                       Voronezh SEC \"Maksimir\"        7\n",
              "8   Voronezh shopping center City Park \"Castle\"        8\n",
              "9                               Itinerant trade        9\n",
              "10               Zhukovsky Street. Chkalov 39m?       10"
            ]
          },
          "metadata": {
            "tags": []
          },
          "execution_count": 22
        }
      ]
    },
    {
      "cell_type": "code",
      "metadata": {
        "id": "m2qGnne_7iK9",
        "colab_type": "code",
        "outputId": "4f9b0013-8366-4ad7-e7d0-33075757acbb",
        "colab": {
          "base_uri": "https://localhost:8080/",
          "height": 202
        }
      },
      "source": [
        "#카테고리 그룹 추가하기\n",
        "\n",
        "# 카테고리의 처음이름 가져오기\n",
        "item_grp = item_categories['item_category_name'].apply(lambda x: str(x).split(' ')[0]) \n",
        "# 코드 형식으로 바꿔 열 추가\n",
        "item_categories['item_group'] = pd.Categorical(item_grp).codes \n",
        "# 아이탬에 그룹표기 추가\n",
        "items = pd.merge(items, item_categories.loc[:,['item_category_id','item_group']], on=['item_category_id'], how='left') \n",
        "items.head()\n"
      ],
      "execution_count": 23,
      "outputs": [
        {
          "output_type": "execute_result",
          "data": {
            "text/html": [
              "<div>\n",
              "<style scoped>\n",
              "    .dataframe tbody tr th:only-of-type {\n",
              "        vertical-align: middle;\n",
              "    }\n",
              "\n",
              "    .dataframe tbody tr th {\n",
              "        vertical-align: top;\n",
              "    }\n",
              "\n",
              "    .dataframe thead th {\n",
              "        text-align: right;\n",
              "    }\n",
              "</style>\n",
              "<table border=\"1\" class=\"dataframe\">\n",
              "  <thead>\n",
              "    <tr style=\"text-align: right;\">\n",
              "      <th></th>\n",
              "      <th>item_name</th>\n",
              "      <th>item_id</th>\n",
              "      <th>item_category_id</th>\n",
              "      <th>item_group</th>\n",
              "    </tr>\n",
              "  </thead>\n",
              "  <tbody>\n",
              "    <tr>\n",
              "      <th>0</th>\n",
              "      <td>! ВО ВЛАСТИ НАВАЖДЕНИЯ (ПЛАСТ.)         D</td>\n",
              "      <td>0</td>\n",
              "      <td>40</td>\n",
              "      <td>8</td>\n",
              "    </tr>\n",
              "    <tr>\n",
              "      <th>1</th>\n",
              "      <td>!ABBYY FineReader 12 Professional Edition Full...</td>\n",
              "      <td>1</td>\n",
              "      <td>76</td>\n",
              "      <td>12</td>\n",
              "    </tr>\n",
              "    <tr>\n",
              "      <th>2</th>\n",
              "      <td>***В ЛУЧАХ СЛАВЫ   (UNV)                    D</td>\n",
              "      <td>2</td>\n",
              "      <td>40</td>\n",
              "      <td>8</td>\n",
              "    </tr>\n",
              "    <tr>\n",
              "      <th>3</th>\n",
              "      <td>***ГОЛУБАЯ ВОЛНА  (Univ)                      D</td>\n",
              "      <td>3</td>\n",
              "      <td>40</td>\n",
              "      <td>8</td>\n",
              "    </tr>\n",
              "    <tr>\n",
              "      <th>4</th>\n",
              "      <td>***КОРОБКА (СТЕКЛО)                       D</td>\n",
              "      <td>4</td>\n",
              "      <td>40</td>\n",
              "      <td>8</td>\n",
              "    </tr>\n",
              "  </tbody>\n",
              "</table>\n",
              "</div>"
            ],
            "text/plain": [
              "                                           item_name  ...  item_group\n",
              "0          ! ВО ВЛАСТИ НАВАЖДЕНИЯ (ПЛАСТ.)         D  ...           8\n",
              "1  !ABBYY FineReader 12 Professional Edition Full...  ...          12\n",
              "2      ***В ЛУЧАХ СЛАВЫ   (UNV)                    D  ...           8\n",
              "3    ***ГОЛУБАЯ ВОЛНА  (Univ)                      D  ...           8\n",
              "4        ***КОРОБКА (СТЕКЛО)                       D  ...           8\n",
              "\n",
              "[5 rows x 4 columns]"
            ]
          },
          "metadata": {
            "tags": []
          },
          "execution_count": 23
        }
      ]
    },
    {
      "cell_type": "code",
      "metadata": {
        "id": "v4vPhhlVRLnC",
        "colab_type": "code",
        "colab": {}
      },
      "source": [
        "# 병합을 위한 테이블 생성\n",
        "items_I = items[['item_id','item_category_id','item_group']]"
      ],
      "execution_count": 0,
      "outputs": []
    },
    {
      "cell_type": "code",
      "metadata": {
        "id": "GK2jaMVt-arD",
        "colab_type": "code",
        "outputId": "295bcadf-3b42-4509-8cff-1658f44d035d",
        "colab": {
          "base_uri": "https://localhost:8080/",
          "height": 202
        }
      },
      "source": [
        "#Shop에서 도시 추가하기\n",
        "\n",
        "city = shops.shop_name.apply(lambda x: str.replace(x, '!', '')).apply(lambda x: x.split(' ')[0]) \n",
        "shops['city'] = pd.Categorical(city).codes \n",
        "shops.head()"
      ],
      "execution_count": 25,
      "outputs": [
        {
          "output_type": "execute_result",
          "data": {
            "text/html": [
              "<div>\n",
              "<style scoped>\n",
              "    .dataframe tbody tr th:only-of-type {\n",
              "        vertical-align: middle;\n",
              "    }\n",
              "\n",
              "    .dataframe tbody tr th {\n",
              "        vertical-align: top;\n",
              "    }\n",
              "\n",
              "    .dataframe thead th {\n",
              "        text-align: right;\n",
              "    }\n",
              "</style>\n",
              "<table border=\"1\" class=\"dataframe\">\n",
              "  <thead>\n",
              "    <tr style=\"text-align: right;\">\n",
              "      <th></th>\n",
              "      <th>shop_name</th>\n",
              "      <th>shop_id</th>\n",
              "      <th>city</th>\n",
              "    </tr>\n",
              "  </thead>\n",
              "  <tbody>\n",
              "    <tr>\n",
              "      <th>0</th>\n",
              "      <td>!Якутск Орджоникидзе, 56 фран</td>\n",
              "      <td>0</td>\n",
              "      <td>31</td>\n",
              "    </tr>\n",
              "    <tr>\n",
              "      <th>1</th>\n",
              "      <td>! Yakutsk TC \"Central\" Franc</td>\n",
              "      <td>1</td>\n",
              "      <td>0</td>\n",
              "    </tr>\n",
              "    <tr>\n",
              "      <th>2</th>\n",
              "      <td>Adygea TC \"Mega\"</td>\n",
              "      <td>2</td>\n",
              "      <td>1</td>\n",
              "    </tr>\n",
              "    <tr>\n",
              "      <th>3</th>\n",
              "      <td>Balashikha TRC \"October-Kinomir\"</td>\n",
              "      <td>3</td>\n",
              "      <td>2</td>\n",
              "    </tr>\n",
              "    <tr>\n",
              "      <th>4</th>\n",
              "      <td>Volzhsky mall \"Volga Mall\"</td>\n",
              "      <td>4</td>\n",
              "      <td>5</td>\n",
              "    </tr>\n",
              "  </tbody>\n",
              "</table>\n",
              "</div>"
            ],
            "text/plain": [
              "                          shop_name  shop_id  city\n",
              "0     !Якутск Орджоникидзе, 56 фран        0    31\n",
              "1      ! Yakutsk TC \"Central\" Franc        1     0\n",
              "2                  Adygea TC \"Mega\"        2     1\n",
              "3  Balashikha TRC \"October-Kinomir\"        3     2\n",
              "4        Volzhsky mall \"Volga Mall\"        4     5"
            ]
          },
          "metadata": {
            "tags": []
          },
          "execution_count": 25
        }
      ]
    },
    {
      "cell_type": "code",
      "metadata": {
        "id": "ySKF_OzhRm0s",
        "colab_type": "code",
        "colab": {}
      },
      "source": [
        "# 병합을 위한 테이블 생성\n",
        "shops_I = shops[['shop_id','city']]"
      ],
      "execution_count": 0,
      "outputs": []
    },
    {
      "cell_type": "markdown",
      "metadata": {
        "id": "d2swryP0EkAA",
        "colab_type": "text"
      },
      "source": [
        "### 2.3 파생 변수 합치기\n"
      ]
    },
    {
      "cell_type": "code",
      "metadata": {
        "id": "wQJF1seCGmhY",
        "colab_type": "code",
        "colab": {}
      },
      "source": [
        "# 아이탬 카테고리 합치기\n",
        "trn_ICI = pd.merge(trn_IC, items_I, on=['item_id'])"
      ],
      "execution_count": 0,
      "outputs": []
    },
    {
      "cell_type": "code",
      "metadata": {
        "id": "3NyEyuGeR5ES",
        "colab_type": "code",
        "colab": {}
      },
      "source": [
        "# 상점 도시 합치기\n",
        "trn_ICII = pd.merge(trn_IC, shops_I, on=['shop_id'])"
      ],
      "execution_count": 0,
      "outputs": []
    },
    {
      "cell_type": "code",
      "metadata": {
        "id": "Ksg3l3uFHCu4",
        "colab_type": "code",
        "outputId": "d1336000-b62f-419d-983c-26229573f26d",
        "colab": {
          "base_uri": "https://localhost:8080/",
          "height": 222
        }
      },
      "source": [
        "trn_ICII.head()"
      ],
      "execution_count": 29,
      "outputs": [
        {
          "output_type": "execute_result",
          "data": {
            "text/html": [
              "<div>\n",
              "<style scoped>\n",
              "    .dataframe tbody tr th:only-of-type {\n",
              "        vertical-align: middle;\n",
              "    }\n",
              "\n",
              "    .dataframe tbody tr th {\n",
              "        vertical-align: top;\n",
              "    }\n",
              "\n",
              "    .dataframe thead th {\n",
              "        text-align: right;\n",
              "    }\n",
              "</style>\n",
              "<table border=\"1\" class=\"dataframe\">\n",
              "  <thead>\n",
              "    <tr style=\"text-align: right;\">\n",
              "      <th></th>\n",
              "      <th>shop_id</th>\n",
              "      <th>item_id</th>\n",
              "      <th>item_cnt_sum</th>\n",
              "      <th>item_cnt_count</th>\n",
              "      <th>item_cnt_mean</th>\n",
              "      <th>item_cnt_std</th>\n",
              "      <th>item_price_sum</th>\n",
              "      <th>item_price_count</th>\n",
              "      <th>item_price_mean</th>\n",
              "      <th>item_price_std</th>\n",
              "      <th>city</th>\n",
              "    </tr>\n",
              "  </thead>\n",
              "  <tbody>\n",
              "    <tr>\n",
              "      <th>0</th>\n",
              "      <td>0</td>\n",
              "      <td>30</td>\n",
              "      <td>31.0</td>\n",
              "      <td>9</td>\n",
              "      <td>3.444444</td>\n",
              "      <td>2.242271</td>\n",
              "      <td>2385.0</td>\n",
              "      <td>9</td>\n",
              "      <td>265.0</td>\n",
              "      <td>0.0</td>\n",
              "      <td>31</td>\n",
              "    </tr>\n",
              "    <tr>\n",
              "      <th>1</th>\n",
              "      <td>0</td>\n",
              "      <td>31</td>\n",
              "      <td>11.0</td>\n",
              "      <td>7</td>\n",
              "      <td>1.571429</td>\n",
              "      <td>0.975900</td>\n",
              "      <td>3038.0</td>\n",
              "      <td>7</td>\n",
              "      <td>434.0</td>\n",
              "      <td>0.0</td>\n",
              "      <td>31</td>\n",
              "    </tr>\n",
              "    <tr>\n",
              "      <th>2</th>\n",
              "      <td>0</td>\n",
              "      <td>32</td>\n",
              "      <td>16.0</td>\n",
              "      <td>11</td>\n",
              "      <td>1.454545</td>\n",
              "      <td>0.522233</td>\n",
              "      <td>2431.0</td>\n",
              "      <td>11</td>\n",
              "      <td>221.0</td>\n",
              "      <td>0.0</td>\n",
              "      <td>31</td>\n",
              "    </tr>\n",
              "    <tr>\n",
              "      <th>3</th>\n",
              "      <td>0</td>\n",
              "      <td>33</td>\n",
              "      <td>6.0</td>\n",
              "      <td>6</td>\n",
              "      <td>1.000000</td>\n",
              "      <td>0.000000</td>\n",
              "      <td>2082.0</td>\n",
              "      <td>6</td>\n",
              "      <td>347.0</td>\n",
              "      <td>0.0</td>\n",
              "      <td>31</td>\n",
              "    </tr>\n",
              "    <tr>\n",
              "      <th>4</th>\n",
              "      <td>0</td>\n",
              "      <td>38</td>\n",
              "      <td>0.0</td>\n",
              "      <td>1</td>\n",
              "      <td>0.000000</td>\n",
              "      <td>NaN</td>\n",
              "      <td>0.0</td>\n",
              "      <td>0</td>\n",
              "      <td>NaN</td>\n",
              "      <td>NaN</td>\n",
              "      <td>31</td>\n",
              "    </tr>\n",
              "  </tbody>\n",
              "</table>\n",
              "</div>"
            ],
            "text/plain": [
              "   shop_id  item_id  item_cnt_sum  ...  item_price_mean  item_price_std  city\n",
              "0        0       30          31.0  ...            265.0             0.0    31\n",
              "1        0       31          11.0  ...            434.0             0.0    31\n",
              "2        0       32          16.0  ...            221.0             0.0    31\n",
              "3        0       33           6.0  ...            347.0             0.0    31\n",
              "4        0       38           0.0  ...              NaN             NaN    31\n",
              "\n",
              "[5 rows x 11 columns]"
            ]
          },
          "metadata": {
            "tags": []
          },
          "execution_count": 29
        }
      ]
    },
    {
      "cell_type": "code",
      "metadata": {
        "id": "kyWz4gD8S0Q5",
        "colab_type": "code",
        "colab": {}
      },
      "source": [
        "# 같은 정보를 담는 테스트 데이터 생성\n",
        "# 모든 경우에 수에 알맞게, 트레인 값 병합\n",
        "test_B = pd.merge(S_I_Prod, test, on=['shop_id','item_id'], how='left') \n"
      ],
      "execution_count": 0,
      "outputs": []
    },
    {
      "cell_type": "code",
      "metadata": {
        "id": "j0jL8scnS5v0",
        "colab_type": "code",
        "outputId": "939f6fa6-d129-4c3e-a63f-114f756d141a",
        "colab": {
          "base_uri": "https://localhost:8080/",
          "height": 202
        }
      },
      "source": [
        "test_B.head()"
      ],
      "execution_count": 31,
      "outputs": [
        {
          "output_type": "execute_result",
          "data": {
            "text/html": [
              "<div>\n",
              "<style scoped>\n",
              "    .dataframe tbody tr th:only-of-type {\n",
              "        vertical-align: middle;\n",
              "    }\n",
              "\n",
              "    .dataframe tbody tr th {\n",
              "        vertical-align: top;\n",
              "    }\n",
              "\n",
              "    .dataframe thead th {\n",
              "        text-align: right;\n",
              "    }\n",
              "</style>\n",
              "<table border=\"1\" class=\"dataframe\">\n",
              "  <thead>\n",
              "    <tr style=\"text-align: right;\">\n",
              "      <th></th>\n",
              "      <th>shop_id</th>\n",
              "      <th>item_id</th>\n",
              "      <th>ID</th>\n",
              "    </tr>\n",
              "  </thead>\n",
              "  <tbody>\n",
              "    <tr>\n",
              "      <th>0</th>\n",
              "      <td>0</td>\n",
              "      <td>5037</td>\n",
              "      <td>NaN</td>\n",
              "    </tr>\n",
              "    <tr>\n",
              "      <th>1</th>\n",
              "      <td>0</td>\n",
              "      <td>5320</td>\n",
              "      <td>NaN</td>\n",
              "    </tr>\n",
              "    <tr>\n",
              "      <th>2</th>\n",
              "      <td>0</td>\n",
              "      <td>5233</td>\n",
              "      <td>NaN</td>\n",
              "    </tr>\n",
              "    <tr>\n",
              "      <th>3</th>\n",
              "      <td>0</td>\n",
              "      <td>5232</td>\n",
              "      <td>NaN</td>\n",
              "    </tr>\n",
              "    <tr>\n",
              "      <th>4</th>\n",
              "      <td>0</td>\n",
              "      <td>5268</td>\n",
              "      <td>NaN</td>\n",
              "    </tr>\n",
              "  </tbody>\n",
              "</table>\n",
              "</div>"
            ],
            "text/plain": [
              "   shop_id  item_id  ID\n",
              "0        0     5037 NaN\n",
              "1        0     5320 NaN\n",
              "2        0     5233 NaN\n",
              "3        0     5232 NaN\n",
              "4        0     5268 NaN"
            ]
          },
          "metadata": {
            "tags": []
          },
          "execution_count": 31
        }
      ]
    },
    {
      "cell_type": "code",
      "metadata": {
        "id": "chy3aF4wTB4d",
        "colab_type": "code",
        "outputId": "6ece95f6-a78d-4939-e540-b3ad8a9ffd66",
        "colab": {
          "base_uri": "https://localhost:8080/",
          "height": 36
        }
      },
      "source": [
        "len(test)"
      ],
      "execution_count": 32,
      "outputs": [
        {
          "output_type": "execute_result",
          "data": {
            "text/plain": [
              "214200"
            ]
          },
          "metadata": {
            "tags": []
          },
          "execution_count": 32
        }
      ]
    },
    {
      "cell_type": "code",
      "metadata": {
        "id": "-P__COB9VRWI",
        "colab_type": "code",
        "outputId": "94ef3e6c-9829-4428-9180-6ca952d35290",
        "colab": {
          "base_uri": "https://localhost:8080/",
          "height": 36
        }
      },
      "source": [
        "len(test_B)"
      ],
      "execution_count": 33,
      "outputs": [
        {
          "output_type": "execute_result",
          "data": {
            "text/plain": [
              "306000"
            ]
          },
          "metadata": {
            "tags": []
          },
          "execution_count": 33
        }
      ]
    },
    {
      "cell_type": "code",
      "metadata": {
        "id": "7CnfvC4PVSyJ",
        "colab_type": "code",
        "outputId": "958c096a-8dbe-4fd7-dab0-75bf76a7a769",
        "colab": {
          "base_uri": "https://localhost:8080/",
          "height": 36
        }
      },
      "source": [
        "#r결측치 제거\n",
        "test_B=test_B.dropna(axis=0)\n",
        "len(test_B)"
      ],
      "execution_count": 34,
      "outputs": [
        {
          "output_type": "execute_result",
          "data": {
            "text/plain": [
              "214200"
            ]
          },
          "metadata": {
            "tags": []
          },
          "execution_count": 34
        }
      ]
    },
    {
      "cell_type": "code",
      "metadata": {
        "id": "g42WAGKrVdpY",
        "colab_type": "code",
        "colab": {}
      },
      "source": [
        "# 아이템 카테고리 합치기\n",
        "test_ICI = pd.merge(test_B, items_I, on=['item_id'], how= 'left')\n",
        "# 상점 도시 합치기\n",
        "test_ICII = pd.merge(test_B, shops_I, on=['shop_id'],how= 'left')"
      ],
      "execution_count": 0,
      "outputs": []
    },
    {
      "cell_type": "code",
      "metadata": {
        "id": "qzjHYk_JWAz4",
        "colab_type": "code",
        "outputId": "b5dd6f8d-713c-4d12-ac69-765e33180ba6",
        "colab": {
          "base_uri": "https://localhost:8080/",
          "height": 185
        }
      },
      "source": [
        "test_F = pd.merge(test_B, trn_IC, on=['shop_id','item_id'], how= 'left')\n",
        "test_B['ID'].describe()"
      ],
      "execution_count": 36,
      "outputs": [
        {
          "output_type": "execute_result",
          "data": {
            "text/plain": [
              "count    214200.000000\n",
              "mean     107099.500000\n",
              "std       61834.358168\n",
              "min           0.000000\n",
              "25%       53549.750000\n",
              "50%      107099.500000\n",
              "75%      160649.250000\n",
              "max      214199.000000\n",
              "Name: ID, dtype: float64"
            ]
          },
          "metadata": {
            "tags": []
          },
          "execution_count": 36
        }
      ]
    },
    {
      "cell_type": "code",
      "metadata": {
        "id": "8k_bhfM7W5rL",
        "colab_type": "code",
        "outputId": "b867e7ca-20b8-4e13-9a77-e96d90b0706e",
        "colab": {
          "base_uri": "https://localhost:8080/",
          "height": 222
        }
      },
      "source": [
        "test_F.head()"
      ],
      "execution_count": 37,
      "outputs": [
        {
          "output_type": "execute_result",
          "data": {
            "text/html": [
              "<div>\n",
              "<style scoped>\n",
              "    .dataframe tbody tr th:only-of-type {\n",
              "        vertical-align: middle;\n",
              "    }\n",
              "\n",
              "    .dataframe tbody tr th {\n",
              "        vertical-align: top;\n",
              "    }\n",
              "\n",
              "    .dataframe thead th {\n",
              "        text-align: right;\n",
              "    }\n",
              "</style>\n",
              "<table border=\"1\" class=\"dataframe\">\n",
              "  <thead>\n",
              "    <tr style=\"text-align: right;\">\n",
              "      <th></th>\n",
              "      <th>shop_id</th>\n",
              "      <th>item_id</th>\n",
              "      <th>ID</th>\n",
              "      <th>item_cnt_sum</th>\n",
              "      <th>item_cnt_count</th>\n",
              "      <th>item_cnt_mean</th>\n",
              "      <th>item_cnt_std</th>\n",
              "      <th>item_price_sum</th>\n",
              "      <th>item_price_count</th>\n",
              "      <th>item_price_mean</th>\n",
              "      <th>item_price_std</th>\n",
              "    </tr>\n",
              "  </thead>\n",
              "  <tbody>\n",
              "    <tr>\n",
              "      <th>0</th>\n",
              "      <td>2</td>\n",
              "      <td>5037</td>\n",
              "      <td>20400.0</td>\n",
              "      <td>13.0</td>\n",
              "      <td>12</td>\n",
              "      <td>1.083333</td>\n",
              "      <td>0.288675</td>\n",
              "      <td>22288.5</td>\n",
              "      <td>12</td>\n",
              "      <td>1857.375000</td>\n",
              "      <td>636.971425</td>\n",
              "    </tr>\n",
              "    <tr>\n",
              "      <th>1</th>\n",
              "      <td>2</td>\n",
              "      <td>5320</td>\n",
              "      <td>20401.0</td>\n",
              "      <td>0.0</td>\n",
              "      <td>1</td>\n",
              "      <td>0.000000</td>\n",
              "      <td>NaN</td>\n",
              "      <td>0.0</td>\n",
              "      <td>0</td>\n",
              "      <td>NaN</td>\n",
              "      <td>NaN</td>\n",
              "    </tr>\n",
              "    <tr>\n",
              "      <th>2</th>\n",
              "      <td>2</td>\n",
              "      <td>5233</td>\n",
              "      <td>20402.0</td>\n",
              "      <td>18.0</td>\n",
              "      <td>17</td>\n",
              "      <td>1.058824</td>\n",
              "      <td>0.242536</td>\n",
              "      <td>14983.5</td>\n",
              "      <td>17</td>\n",
              "      <td>881.382353</td>\n",
              "      <td>308.668893</td>\n",
              "    </tr>\n",
              "    <tr>\n",
              "      <th>3</th>\n",
              "      <td>2</td>\n",
              "      <td>5232</td>\n",
              "      <td>20403.0</td>\n",
              "      <td>7.0</td>\n",
              "      <td>7</td>\n",
              "      <td>1.000000</td>\n",
              "      <td>0.000000</td>\n",
              "      <td>5394.0</td>\n",
              "      <td>7</td>\n",
              "      <td>770.571429</td>\n",
              "      <td>292.672517</td>\n",
              "    </tr>\n",
              "    <tr>\n",
              "      <th>4</th>\n",
              "      <td>2</td>\n",
              "      <td>5268</td>\n",
              "      <td>20404.0</td>\n",
              "      <td>0.0</td>\n",
              "      <td>1</td>\n",
              "      <td>0.000000</td>\n",
              "      <td>NaN</td>\n",
              "      <td>0.0</td>\n",
              "      <td>0</td>\n",
              "      <td>NaN</td>\n",
              "      <td>NaN</td>\n",
              "    </tr>\n",
              "  </tbody>\n",
              "</table>\n",
              "</div>"
            ],
            "text/plain": [
              "   shop_id  item_id       ID  ...  item_price_count  item_price_mean  item_price_std\n",
              "0        2     5037  20400.0  ...                12      1857.375000      636.971425\n",
              "1        2     5320  20401.0  ...                 0              NaN             NaN\n",
              "2        2     5233  20402.0  ...                17       881.382353      308.668893\n",
              "3        2     5232  20403.0  ...                 7       770.571429      292.672517\n",
              "4        2     5268  20404.0  ...                 0              NaN             NaN\n",
              "\n",
              "[5 rows x 11 columns]"
            ]
          },
          "metadata": {
            "tags": []
          },
          "execution_count": 37
        }
      ]
    },
    {
      "cell_type": "code",
      "metadata": {
        "id": "QwrJRNqkXBp1",
        "colab_type": "code",
        "outputId": "3d88d22f-a2d5-4125-d296-55aa140c9d40",
        "colab": {
          "base_uri": "https://localhost:8080/",
          "height": 202
        }
      },
      "source": [
        "del test_F['item_cnt_count']\n",
        "#예측해야하는 값이므로 제거함.\n",
        "test_F.head()"
      ],
      "execution_count": 38,
      "outputs": [
        {
          "output_type": "execute_result",
          "data": {
            "text/html": [
              "<div>\n",
              "<style scoped>\n",
              "    .dataframe tbody tr th:only-of-type {\n",
              "        vertical-align: middle;\n",
              "    }\n",
              "\n",
              "    .dataframe tbody tr th {\n",
              "        vertical-align: top;\n",
              "    }\n",
              "\n",
              "    .dataframe thead th {\n",
              "        text-align: right;\n",
              "    }\n",
              "</style>\n",
              "<table border=\"1\" class=\"dataframe\">\n",
              "  <thead>\n",
              "    <tr style=\"text-align: right;\">\n",
              "      <th></th>\n",
              "      <th>shop_id</th>\n",
              "      <th>item_id</th>\n",
              "      <th>ID</th>\n",
              "      <th>item_cnt_sum</th>\n",
              "      <th>item_cnt_mean</th>\n",
              "      <th>item_cnt_std</th>\n",
              "      <th>item_price_sum</th>\n",
              "      <th>item_price_count</th>\n",
              "      <th>item_price_mean</th>\n",
              "      <th>item_price_std</th>\n",
              "    </tr>\n",
              "  </thead>\n",
              "  <tbody>\n",
              "    <tr>\n",
              "      <th>0</th>\n",
              "      <td>2</td>\n",
              "      <td>5037</td>\n",
              "      <td>20400.0</td>\n",
              "      <td>13.0</td>\n",
              "      <td>1.083333</td>\n",
              "      <td>0.288675</td>\n",
              "      <td>22288.5</td>\n",
              "      <td>12</td>\n",
              "      <td>1857.375000</td>\n",
              "      <td>636.971425</td>\n",
              "    </tr>\n",
              "    <tr>\n",
              "      <th>1</th>\n",
              "      <td>2</td>\n",
              "      <td>5320</td>\n",
              "      <td>20401.0</td>\n",
              "      <td>0.0</td>\n",
              "      <td>0.000000</td>\n",
              "      <td>NaN</td>\n",
              "      <td>0.0</td>\n",
              "      <td>0</td>\n",
              "      <td>NaN</td>\n",
              "      <td>NaN</td>\n",
              "    </tr>\n",
              "    <tr>\n",
              "      <th>2</th>\n",
              "      <td>2</td>\n",
              "      <td>5233</td>\n",
              "      <td>20402.0</td>\n",
              "      <td>18.0</td>\n",
              "      <td>1.058824</td>\n",
              "      <td>0.242536</td>\n",
              "      <td>14983.5</td>\n",
              "      <td>17</td>\n",
              "      <td>881.382353</td>\n",
              "      <td>308.668893</td>\n",
              "    </tr>\n",
              "    <tr>\n",
              "      <th>3</th>\n",
              "      <td>2</td>\n",
              "      <td>5232</td>\n",
              "      <td>20403.0</td>\n",
              "      <td>7.0</td>\n",
              "      <td>1.000000</td>\n",
              "      <td>0.000000</td>\n",
              "      <td>5394.0</td>\n",
              "      <td>7</td>\n",
              "      <td>770.571429</td>\n",
              "      <td>292.672517</td>\n",
              "    </tr>\n",
              "    <tr>\n",
              "      <th>4</th>\n",
              "      <td>2</td>\n",
              "      <td>5268</td>\n",
              "      <td>20404.0</td>\n",
              "      <td>0.0</td>\n",
              "      <td>0.000000</td>\n",
              "      <td>NaN</td>\n",
              "      <td>0.0</td>\n",
              "      <td>0</td>\n",
              "      <td>NaN</td>\n",
              "      <td>NaN</td>\n",
              "    </tr>\n",
              "  </tbody>\n",
              "</table>\n",
              "</div>"
            ],
            "text/plain": [
              "   shop_id  item_id       ID  ...  item_price_count  item_price_mean  item_price_std\n",
              "0        2     5037  20400.0  ...                12      1857.375000      636.971425\n",
              "1        2     5320  20401.0  ...                 0              NaN             NaN\n",
              "2        2     5233  20402.0  ...                17       881.382353      308.668893\n",
              "3        2     5232  20403.0  ...                 7       770.571429      292.672517\n",
              "4        2     5268  20404.0  ...                 0              NaN             NaN\n",
              "\n",
              "[5 rows x 10 columns]"
            ]
          },
          "metadata": {
            "tags": []
          },
          "execution_count": 38
        }
      ]
    },
    {
      "cell_type": "code",
      "metadata": {
        "id": "x3AXjwq2b28H",
        "colab_type": "code",
        "outputId": "5f48be39-d3a6-435a-f4ce-44c8bbd5b3bc",
        "colab": {
          "base_uri": "https://localhost:8080/",
          "height": 185
        }
      },
      "source": [
        "# 결측치는 0으로 변경\n",
        "test_F.fillna(0, inplace=True)\n",
        "test_B['ID'].describe()"
      ],
      "execution_count": 39,
      "outputs": [
        {
          "output_type": "execute_result",
          "data": {
            "text/plain": [
              "count    214200.000000\n",
              "mean     107099.500000\n",
              "std       61834.358168\n",
              "min           0.000000\n",
              "25%       53549.750000\n",
              "50%      107099.500000\n",
              "75%      160649.250000\n",
              "max      214199.000000\n",
              "Name: ID, dtype: float64"
            ]
          },
          "metadata": {
            "tags": []
          },
          "execution_count": 39
        }
      ]
    },
    {
      "cell_type": "markdown",
      "metadata": {
        "id": "evYYwhWIYKRA",
        "colab_type": "text"
      },
      "source": [
        "## 3. 데이터 모델링"
      ]
    },
    {
      "cell_type": "code",
      "metadata": {
        "id": "bptmmIjwXUBE",
        "colab_type": "code",
        "colab": {}
      },
      "source": [
        "# 랜덤 포레스트를 이용\n",
        "from sklearn.metrics import accuracy_score\n",
        "from sklearn.ensemble import RandomForestClassifier"
      ],
      "execution_count": 0,
      "outputs": []
    },
    {
      "cell_type": "code",
      "metadata": {
        "id": "DjGjWqiPYWnj",
        "colab_type": "code",
        "outputId": "9785fdfc-2362-46ff-80c4-6956559fb9e0",
        "colab": {
          "base_uri": "https://localhost:8080/",
          "height": 148
        }
      },
      "source": [
        "# 트리개수 선정\n",
        "rfc = RandomForestClassifier(n_estimators=40)\n",
        "rfc"
      ],
      "execution_count": 41,
      "outputs": [
        {
          "output_type": "execute_result",
          "data": {
            "text/plain": [
              "RandomForestClassifier(bootstrap=True, class_weight=None, criterion='gini',\n",
              "                       max_depth=None, max_features='auto', max_leaf_nodes=None,\n",
              "                       min_impurity_decrease=0.0, min_impurity_split=None,\n",
              "                       min_samples_leaf=1, min_samples_split=2,\n",
              "                       min_weight_fraction_leaf=0.0, n_estimators=40,\n",
              "                       n_jobs=None, oob_score=False, random_state=None,\n",
              "                       verbose=0, warm_start=False)"
            ]
          },
          "metadata": {
            "tags": []
          },
          "execution_count": 41
        }
      ]
    },
    {
      "cell_type": "code",
      "metadata": {
        "id": "NFQKONvWYd3S",
        "colab_type": "code",
        "outputId": "965df707-a509-41af-a29c-c0f538a99e5e",
        "colab": {
          "base_uri": "https://localhost:8080/",
          "height": 241
        }
      },
      "source": [
        "# 학습을 위한 변수 설정\n",
        "\n",
        "train = trn_ICII.copy()\n",
        "train['item_cnt_count']"
      ],
      "execution_count": 42,
      "outputs": [
        {
          "output_type": "execute_result",
          "data": {
            "text/plain": [
              "0          9\n",
              "1          7\n",
              "2         11\n",
              "3          6\n",
              "4          1\n",
              "          ..\n",
              "305995    16\n",
              "305996     1\n",
              "305997     6\n",
              "305998     1\n",
              "305999     4\n",
              "Name: item_cnt_count, Length: 306000, dtype: int64"
            ]
          },
          "metadata": {
            "tags": []
          },
          "execution_count": 42
        }
      ]
    },
    {
      "cell_type": "code",
      "metadata": {
        "id": "bnl1gx0RZkC1",
        "colab_type": "code",
        "outputId": "76ee6ca2-82f2-44bd-e607-3874da04d5a6",
        "colab": {
          "base_uri": "https://localhost:8080/",
          "height": 185
        }
      },
      "source": [
        "train_Y = train['item_cnt_count']\n",
        "train_Y.fillna(0, inplace=True)\n",
        "train_Y.describe()"
      ],
      "execution_count": 43,
      "outputs": [
        {
          "output_type": "execute_result",
          "data": {
            "text/plain": [
              "count    306000.000000\n",
              "mean          5.286948\n",
              "std          16.646686\n",
              "min           1.000000\n",
              "25%           1.000000\n",
              "50%           1.000000\n",
              "75%           3.000000\n",
              "max         867.000000\n",
              "Name: item_cnt_count, dtype: float64"
            ]
          },
          "metadata": {
            "tags": []
          },
          "execution_count": 43
        }
      ]
    },
    {
      "cell_type": "code",
      "metadata": {
        "id": "h3FxBU7qZSnv",
        "colab_type": "code",
        "outputId": "2be04e45-3354-4a81-eb11-33033b040bb7",
        "colab": {
          "base_uri": "https://localhost:8080/",
          "height": 202
        }
      },
      "source": [
        "train_X =trn_ICII.copy()\n",
        "train_X.fillna(0, inplace=True)\n",
        "train_X.head()\n",
        "del train_X['item_cnt_count']\n",
        "train_X.head()"
      ],
      "execution_count": 44,
      "outputs": [
        {
          "output_type": "execute_result",
          "data": {
            "text/html": [
              "<div>\n",
              "<style scoped>\n",
              "    .dataframe tbody tr th:only-of-type {\n",
              "        vertical-align: middle;\n",
              "    }\n",
              "\n",
              "    .dataframe tbody tr th {\n",
              "        vertical-align: top;\n",
              "    }\n",
              "\n",
              "    .dataframe thead th {\n",
              "        text-align: right;\n",
              "    }\n",
              "</style>\n",
              "<table border=\"1\" class=\"dataframe\">\n",
              "  <thead>\n",
              "    <tr style=\"text-align: right;\">\n",
              "      <th></th>\n",
              "      <th>shop_id</th>\n",
              "      <th>item_id</th>\n",
              "      <th>item_cnt_sum</th>\n",
              "      <th>item_cnt_mean</th>\n",
              "      <th>item_cnt_std</th>\n",
              "      <th>item_price_sum</th>\n",
              "      <th>item_price_count</th>\n",
              "      <th>item_price_mean</th>\n",
              "      <th>item_price_std</th>\n",
              "      <th>city</th>\n",
              "    </tr>\n",
              "  </thead>\n",
              "  <tbody>\n",
              "    <tr>\n",
              "      <th>0</th>\n",
              "      <td>0</td>\n",
              "      <td>30</td>\n",
              "      <td>31.0</td>\n",
              "      <td>3.444444</td>\n",
              "      <td>2.242271</td>\n",
              "      <td>2385.0</td>\n",
              "      <td>9</td>\n",
              "      <td>265.0</td>\n",
              "      <td>0.0</td>\n",
              "      <td>31</td>\n",
              "    </tr>\n",
              "    <tr>\n",
              "      <th>1</th>\n",
              "      <td>0</td>\n",
              "      <td>31</td>\n",
              "      <td>11.0</td>\n",
              "      <td>1.571429</td>\n",
              "      <td>0.975900</td>\n",
              "      <td>3038.0</td>\n",
              "      <td>7</td>\n",
              "      <td>434.0</td>\n",
              "      <td>0.0</td>\n",
              "      <td>31</td>\n",
              "    </tr>\n",
              "    <tr>\n",
              "      <th>2</th>\n",
              "      <td>0</td>\n",
              "      <td>32</td>\n",
              "      <td>16.0</td>\n",
              "      <td>1.454545</td>\n",
              "      <td>0.522233</td>\n",
              "      <td>2431.0</td>\n",
              "      <td>11</td>\n",
              "      <td>221.0</td>\n",
              "      <td>0.0</td>\n",
              "      <td>31</td>\n",
              "    </tr>\n",
              "    <tr>\n",
              "      <th>3</th>\n",
              "      <td>0</td>\n",
              "      <td>33</td>\n",
              "      <td>6.0</td>\n",
              "      <td>1.000000</td>\n",
              "      <td>0.000000</td>\n",
              "      <td>2082.0</td>\n",
              "      <td>6</td>\n",
              "      <td>347.0</td>\n",
              "      <td>0.0</td>\n",
              "      <td>31</td>\n",
              "    </tr>\n",
              "    <tr>\n",
              "      <th>4</th>\n",
              "      <td>0</td>\n",
              "      <td>38</td>\n",
              "      <td>0.0</td>\n",
              "      <td>0.000000</td>\n",
              "      <td>0.000000</td>\n",
              "      <td>0.0</td>\n",
              "      <td>0</td>\n",
              "      <td>0.0</td>\n",
              "      <td>0.0</td>\n",
              "      <td>31</td>\n",
              "    </tr>\n",
              "  </tbody>\n",
              "</table>\n",
              "</div>"
            ],
            "text/plain": [
              "   shop_id  item_id  item_cnt_sum  ...  item_price_mean  item_price_std  city\n",
              "0        0       30          31.0  ...            265.0             0.0    31\n",
              "1        0       31          11.0  ...            434.0             0.0    31\n",
              "2        0       32          16.0  ...            221.0             0.0    31\n",
              "3        0       33           6.0  ...            347.0             0.0    31\n",
              "4        0       38           0.0  ...              0.0             0.0    31\n",
              "\n",
              "[5 rows x 10 columns]"
            ]
          },
          "metadata": {
            "tags": []
          },
          "execution_count": 44
        }
      ]
    },
    {
      "cell_type": "code",
      "metadata": {
        "id": "4QQ137MWa3K_",
        "colab_type": "code",
        "outputId": "fad11d31-c26d-4655-b1f5-1f8d81b43315",
        "colab": {
          "base_uri": "https://localhost:8080/",
          "height": 148
        }
      },
      "source": [
        "# 모델 구축\n",
        "rfc.fit(train_X,train_Y)"
      ],
      "execution_count": 45,
      "outputs": [
        {
          "output_type": "execute_result",
          "data": {
            "text/plain": [
              "RandomForestClassifier(bootstrap=True, class_weight=None, criterion='gini',\n",
              "                       max_depth=None, max_features='auto', max_leaf_nodes=None,\n",
              "                       min_impurity_decrease=0.0, min_impurity_split=None,\n",
              "                       min_samples_leaf=1, min_samples_split=2,\n",
              "                       min_weight_fraction_leaf=0.0, n_estimators=40,\n",
              "                       n_jobs=None, oob_score=False, random_state=None,\n",
              "                       verbose=0, warm_start=False)"
            ]
          },
          "metadata": {
            "tags": []
          },
          "execution_count": 45
        }
      ]
    },
    {
      "cell_type": "code",
      "metadata": {
        "id": "ltoi4UwSbSCu",
        "colab_type": "code",
        "colab": {}
      },
      "source": [
        "# 예측\n",
        " prediction=rfc.predict(test_F)"
      ],
      "execution_count": 0,
      "outputs": []
    },
    {
      "cell_type": "code",
      "metadata": {
        "id": "TpAuixzWcrUC",
        "colab_type": "code",
        "colab": {}
      },
      "source": [
        "test_F[\"item_cnt_month\"] = prediction"
      ],
      "execution_count": 0,
      "outputs": []
    },
    {
      "cell_type": "code",
      "metadata": {
        "id": "4rYSp4qBdALc",
        "colab_type": "code",
        "outputId": "ed44c059-e203-44c3-959e-9970fc22b5e1",
        "colab": {
          "base_uri": "https://localhost:8080/",
          "height": 222
        }
      },
      "source": [
        "test_F.head()"
      ],
      "execution_count": 48,
      "outputs": [
        {
          "output_type": "execute_result",
          "data": {
            "text/html": [
              "<div>\n",
              "<style scoped>\n",
              "    .dataframe tbody tr th:only-of-type {\n",
              "        vertical-align: middle;\n",
              "    }\n",
              "\n",
              "    .dataframe tbody tr th {\n",
              "        vertical-align: top;\n",
              "    }\n",
              "\n",
              "    .dataframe thead th {\n",
              "        text-align: right;\n",
              "    }\n",
              "</style>\n",
              "<table border=\"1\" class=\"dataframe\">\n",
              "  <thead>\n",
              "    <tr style=\"text-align: right;\">\n",
              "      <th></th>\n",
              "      <th>shop_id</th>\n",
              "      <th>item_id</th>\n",
              "      <th>ID</th>\n",
              "      <th>item_cnt_sum</th>\n",
              "      <th>item_cnt_mean</th>\n",
              "      <th>item_cnt_std</th>\n",
              "      <th>item_price_sum</th>\n",
              "      <th>item_price_count</th>\n",
              "      <th>item_price_mean</th>\n",
              "      <th>item_price_std</th>\n",
              "      <th>item_cnt_month</th>\n",
              "    </tr>\n",
              "  </thead>\n",
              "  <tbody>\n",
              "    <tr>\n",
              "      <th>0</th>\n",
              "      <td>2</td>\n",
              "      <td>5037</td>\n",
              "      <td>20400.0</td>\n",
              "      <td>13.0</td>\n",
              "      <td>1.083333</td>\n",
              "      <td>0.288675</td>\n",
              "      <td>22288.5</td>\n",
              "      <td>12</td>\n",
              "      <td>1857.375000</td>\n",
              "      <td>636.971425</td>\n",
              "      <td>156</td>\n",
              "    </tr>\n",
              "    <tr>\n",
              "      <th>1</th>\n",
              "      <td>2</td>\n",
              "      <td>5320</td>\n",
              "      <td>20401.0</td>\n",
              "      <td>0.0</td>\n",
              "      <td>0.000000</td>\n",
              "      <td>0.000000</td>\n",
              "      <td>0.0</td>\n",
              "      <td>0</td>\n",
              "      <td>0.000000</td>\n",
              "      <td>0.000000</td>\n",
              "      <td>1</td>\n",
              "    </tr>\n",
              "    <tr>\n",
              "      <th>2</th>\n",
              "      <td>2</td>\n",
              "      <td>5233</td>\n",
              "      <td>20402.0</td>\n",
              "      <td>18.0</td>\n",
              "      <td>1.058824</td>\n",
              "      <td>0.242536</td>\n",
              "      <td>14983.5</td>\n",
              "      <td>17</td>\n",
              "      <td>881.382353</td>\n",
              "      <td>308.668893</td>\n",
              "      <td>156</td>\n",
              "    </tr>\n",
              "    <tr>\n",
              "      <th>3</th>\n",
              "      <td>2</td>\n",
              "      <td>5232</td>\n",
              "      <td>20403.0</td>\n",
              "      <td>7.0</td>\n",
              "      <td>1.000000</td>\n",
              "      <td>0.000000</td>\n",
              "      <td>5394.0</td>\n",
              "      <td>7</td>\n",
              "      <td>770.571429</td>\n",
              "      <td>292.672517</td>\n",
              "      <td>156</td>\n",
              "    </tr>\n",
              "    <tr>\n",
              "      <th>4</th>\n",
              "      <td>2</td>\n",
              "      <td>5268</td>\n",
              "      <td>20404.0</td>\n",
              "      <td>0.0</td>\n",
              "      <td>0.000000</td>\n",
              "      <td>0.000000</td>\n",
              "      <td>0.0</td>\n",
              "      <td>0</td>\n",
              "      <td>0.000000</td>\n",
              "      <td>0.000000</td>\n",
              "      <td>1</td>\n",
              "    </tr>\n",
              "  </tbody>\n",
              "</table>\n",
              "</div>"
            ],
            "text/plain": [
              "   shop_id  item_id       ID  ...  item_price_mean  item_price_std  item_cnt_month\n",
              "0        2     5037  20400.0  ...      1857.375000      636.971425             156\n",
              "1        2     5320  20401.0  ...         0.000000        0.000000               1\n",
              "2        2     5233  20402.0  ...       881.382353      308.668893             156\n",
              "3        2     5232  20403.0  ...       770.571429      292.672517             156\n",
              "4        2     5268  20404.0  ...         0.000000        0.000000               1\n",
              "\n",
              "[5 rows x 11 columns]"
            ]
          },
          "metadata": {
            "tags": []
          },
          "execution_count": 48
        }
      ]
    },
    {
      "cell_type": "code",
      "metadata": {
        "id": "kTfQV_HHkBfV",
        "colab_type": "code",
        "outputId": "645f0f07-ae11-4fde-d29b-03a48f8429a7",
        "colab": {
          "base_uri": "https://localhost:8080/",
          "height": 185
        }
      },
      "source": [
        "test_F[\"item_cnt_month\"].describe()"
      ],
      "execution_count": 49,
      "outputs": [
        {
          "output_type": "execute_result",
          "data": {
            "text/plain": [
              "count    214200.000000\n",
              "mean         24.941545\n",
              "std          70.592119\n",
              "min           1.000000\n",
              "25%           1.000000\n",
              "50%           3.000000\n",
              "75%           9.000000\n",
              "max         867.000000\n",
              "Name: item_cnt_month, dtype: float64"
            ]
          },
          "metadata": {
            "tags": []
          },
          "execution_count": 49
        }
      ]
    },
    {
      "cell_type": "code",
      "metadata": {
        "id": "88tSQXiLdB_q",
        "colab_type": "code",
        "colab": {}
      },
      "source": [
        " Result = test_F[[\"ID\",\"item_cnt_month\"]]"
      ],
      "execution_count": 0,
      "outputs": []
    },
    {
      "cell_type": "code",
      "metadata": {
        "id": "2OXxAweEhB9v",
        "colab_type": "code",
        "outputId": "89ada252-14c0-4cd5-a28c-340c74220f61",
        "colab": {
          "base_uri": "https://localhost:8080/",
          "height": 202
        }
      },
      "source": [
        "Result.head()"
      ],
      "execution_count": 51,
      "outputs": [
        {
          "output_type": "execute_result",
          "data": {
            "text/html": [
              "<div>\n",
              "<style scoped>\n",
              "    .dataframe tbody tr th:only-of-type {\n",
              "        vertical-align: middle;\n",
              "    }\n",
              "\n",
              "    .dataframe tbody tr th {\n",
              "        vertical-align: top;\n",
              "    }\n",
              "\n",
              "    .dataframe thead th {\n",
              "        text-align: right;\n",
              "    }\n",
              "</style>\n",
              "<table border=\"1\" class=\"dataframe\">\n",
              "  <thead>\n",
              "    <tr style=\"text-align: right;\">\n",
              "      <th></th>\n",
              "      <th>ID</th>\n",
              "      <th>item_cnt_month</th>\n",
              "    </tr>\n",
              "  </thead>\n",
              "  <tbody>\n",
              "    <tr>\n",
              "      <th>0</th>\n",
              "      <td>20400.0</td>\n",
              "      <td>156</td>\n",
              "    </tr>\n",
              "    <tr>\n",
              "      <th>1</th>\n",
              "      <td>20401.0</td>\n",
              "      <td>1</td>\n",
              "    </tr>\n",
              "    <tr>\n",
              "      <th>2</th>\n",
              "      <td>20402.0</td>\n",
              "      <td>156</td>\n",
              "    </tr>\n",
              "    <tr>\n",
              "      <th>3</th>\n",
              "      <td>20403.0</td>\n",
              "      <td>156</td>\n",
              "    </tr>\n",
              "    <tr>\n",
              "      <th>4</th>\n",
              "      <td>20404.0</td>\n",
              "      <td>1</td>\n",
              "    </tr>\n",
              "  </tbody>\n",
              "</table>\n",
              "</div>"
            ],
            "text/plain": [
              "        ID  item_cnt_month\n",
              "0  20400.0             156\n",
              "1  20401.0               1\n",
              "2  20402.0             156\n",
              "3  20403.0             156\n",
              "4  20404.0               1"
            ]
          },
          "metadata": {
            "tags": []
          },
          "execution_count": 51
        }
      ]
    },
    {
      "cell_type": "code",
      "metadata": {
        "id": "-umDFA8iVXkI",
        "colab_type": "code",
        "colab": {
          "base_uri": "https://localhost:8080/",
          "height": 148
        },
        "outputId": "2667a228-0c9e-4067-854a-58aacd329c1d"
      },
      "source": [
        "Result.info()"
      ],
      "execution_count": 52,
      "outputs": [
        {
          "output_type": "stream",
          "text": [
            "<class 'pandas.core.frame.DataFrame'>\n",
            "Int64Index: 214200 entries, 0 to 214199\n",
            "Data columns (total 2 columns):\n",
            "ID                214200 non-null float64\n",
            "item_cnt_month    214200 non-null int64\n",
            "dtypes: float64(1), int64(1)\n",
            "memory usage: 4.9 MB\n"
          ],
          "name": "stdout"
        }
      ]
    },
    {
      "cell_type": "code",
      "metadata": {
        "id": "Zay7BtUnjcU7",
        "colab_type": "code",
        "outputId": "5a74f727-7d33-48c9-9983-ce88e1b97d38",
        "colab": {
          "base_uri": "https://localhost:8080/",
          "height": 129
        }
      },
      "source": [
        "Result.ID = Result['ID'].astype('int')\n",
        "Result.item_cnt_month = Result.item_cnt_month.astype('int')"
      ],
      "execution_count": 53,
      "outputs": [
        {
          "output_type": "stream",
          "text": [
            "/usr/local/lib/python3.6/dist-packages/pandas/core/generic.py:5208: SettingWithCopyWarning: \n",
            "A value is trying to be set on a copy of a slice from a DataFrame.\n",
            "Try using .loc[row_indexer,col_indexer] = value instead\n",
            "\n",
            "See the caveats in the documentation: http://pandas.pydata.org/pandas-docs/stable/user_guide/indexing.html#returning-a-view-versus-a-copy\n",
            "  self[name] = value\n"
          ],
          "name": "stderr"
        }
      ]
    },
    {
      "cell_type": "code",
      "metadata": {
        "id": "CuxyW7WDdcTb",
        "colab_type": "code",
        "colab": {}
      },
      "source": [
        "Result.to_csv('submission.csv',index=False)"
      ],
      "execution_count": 0,
      "outputs": []
    },
    {
      "cell_type": "code",
      "metadata": {
        "id": "w9eMLN7NfJtH",
        "colab_type": "code",
        "outputId": "5a5c609e-e430-4f2e-c221-d80d76350b62",
        "colab": {
          "base_uri": "https://localhost:8080/",
          "height": 73
        }
      },
      "source": [
        "#제출\n",
        "!kaggle competitions submit -c competitive-data-science-predict-future-sales -f submission.csv -m \"Message\""
      ],
      "execution_count": 55,
      "outputs": [
        {
          "output_type": "stream",
          "text": [
            "Warning: Looks like you're using an outdated API Version, please consider updating (server 1.5.6 / client 1.5.4)\n",
            "100% 1.80M/1.80M [00:04<00:00, 407kB/s]\n",
            "Successfully submitted to Predict Future Sales"
          ],
          "name": "stdout"
        }
      ]
    },
    {
      "cell_type": "code",
      "metadata": {
        "id": "NeyfblG0pxTR",
        "colab_type": "code",
        "colab": {}
      },
      "source": [
        ""
      ],
      "execution_count": 0,
      "outputs": []
    }
  ]
}